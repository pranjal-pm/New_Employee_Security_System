{
  "nbformat": 4,
  "nbformat_minor": 0,
  "metadata": {
    "colab": {
      "provenance": [],
      "authorship_tag": "ABX9TyOnHcvPFPxe02NmzzE7p22Q",
      "include_colab_link": true
    },
    "kernelspec": {
      "name": "python3",
      "display_name": "Python 3"
    },
    "language_info": {
      "name": "python"
    }
  },
  "cells": [
    {
      "cell_type": "markdown",
      "metadata": {
        "id": "view-in-github",
        "colab_type": "text"
      },
      "source": [
        "<a href=\"https://colab.research.google.com/github/pranjal-pm/New_Employee_Security_System/blob/main/new_Employee_Security_System.ipynb\" target=\"_parent\"><img src=\"https://colab.research.google.com/assets/colab-badge.svg\" alt=\"Open In Colab\"/></a>"
      ]
    },
    {
      "cell_type": "code",
      "execution_count": 1,
      "metadata": {
        "colab": {
          "base_uri": "https://localhost:8080/"
        },
        "id": "og-BQkGH5wzG",
        "outputId": "f0ba14ca-eef9-49ea-8318-36362d8d2a1b"
      },
      "outputs": [
        {
          "output_type": "stream",
          "name": "stdout",
          "text": [
            "Synthetic dataset for 30 employees created in folder 'synthetic_data'.\n"
          ]
        }
      ],
      "source": [
        "import pandas as pd\n",
        "import numpy as np\n",
        "import os\n",
        "\n",
        "# Create base folder for synthetic data\n",
        "base_data_folder = \"synthetic_data\"\n",
        "os.makedirs(base_data_folder, exist_ok=True)\n",
        "\n",
        "num_employees = 30\n",
        "samples_per_employee = 1000  # number of rows per CSV\n",
        "sampling_interval = 50  # ms between samples\n",
        "\n",
        "for emp_id in range(1, num_employees+1):\n",
        "    # Create a subfolder for each employee\n",
        "    employee_folder = os.path.join(base_data_folder, f\"employee{emp_id}\")\n",
        "    os.makedirs(employee_folder, exist_ok=True)\n",
        "\n",
        "    timestamps = np.arange(0, samples_per_employee*sampling_interval, sampling_interval)\n",
        "\n",
        "    # Simulate accelerometer data for x, y, z\n",
        "    # Random walk + slight sinusoidal to mimic gait\n",
        "    t = np.linspace(0, 10, samples_per_employee)\n",
        "    accel_x = 0.2 * np.sin(2 * np.pi * 1.5 * t) + 0.02*np.random.randn(samples_per_employee)\n",
        "    accel_y = 0.3 * np.sin(2 * np.pi * 1.2 * t) + 0.02*np.random.randn(samples_per_employee)\n",
        "    accel_z = 9.8 + 0.1 * np.sin(2 * np.pi * 2 * t) + 0.02*np.random.randn(samples_per_employee)  # include gravity\n",
        "\n",
        "    df = pd.DataFrame({\n",
        "        \"timestamp\": timestamps,\n",
        "        \"accel_x\": accel_x,\n",
        "        \"accel_y\": accel_y,\n",
        "        \"accel_z\": accel_z\n",
        "    })\n",
        "\n",
        "    # Save the CSV file within the employee's subfolder\n",
        "    df.to_csv(os.path.join(employee_folder, f\"data.csv\"), index=False)\n",
        "\n",
        "print(f\"Synthetic dataset for {num_employees} employees created in folder '{base_data_folder}' with subfolders per employee.\")"
      ]
    },
    {
      "cell_type": "code",
      "source": [
        "import os\n",
        "import glob\n",
        "import numpy as np\n",
        "import pandas as pd\n",
        "import matplotlib.pyplot as plt\n",
        "from scipy import stats\n",
        "from scipy.signal import welch\n",
        "from sklearn.model_selection import train_test_split, StratifiedKFold, cross_val_score, GridSearchCV\n",
        "from sklearn.preprocessing import StandardScaler, LabelEncoder\n",
        "from sklearn.ensemble import RandomForestClassifier\n",
        "from sklearn.metrics import accuracy_score, classification_report, confusion_matrix\n",
        "import joblib"
      ],
      "metadata": {
        "id": "_IC7o2So5xfn"
      },
      "execution_count": 2,
      "outputs": []
    },
    {
      "cell_type": "code",
      "source": [
        "# For deep learning\n",
        "import tensorflow as tf\n",
        "from tensorflow import keras\n",
        "from tensorflow.keras.models import Sequential\n",
        "from tensorflow.keras.layers import Conv1D, Dense, Flatten, Dropout, BatchNormalization, MaxPooling1D\n",
        "from tensorflow.keras.utils import to_categorical"
      ],
      "metadata": {
        "id": "uI0tkgMs652S"
      },
      "execution_count": 3,
      "outputs": []
    },
    {
      "cell_type": "code",
      "source": [
        "DATA_DIR = '/content/synthetic_data' # <-- change if needed\n",
        "SAMPLE_RATE = 50 # approximate Hz. If your CSV has timestamps, we'll compute actual sample rate per file.\n",
        "WINDOW_DURATION = 2.0 # seconds per analysis window\n",
        "WINDOW_STEP = 1.0 # seconds (overlap)"
      ],
      "metadata": {
        "id": "1kMNoGXy675M"
      },
      "execution_count": 4,
      "outputs": []
    },
    {
      "cell_type": "code",
      "source": [
        "# ----------------------\n",
        "# HELPERS: read sensor files\n",
        "# ----------------------\n",
        "\n",
        "\n",
        "def read_sensor_file(path):\n",
        "    \"\"\"Read a sensor CSV and return dataframe with columns ['time','ax','ay','az'] if possible.\n",
        "    Attempts to auto-detect common column names. Handles metadata lines.\n",
        "    \"\"\"\n",
        "    try:\n",
        "        # Try reading assuming metadata lines (like the uploaded file)\n",
        "        df = pd.read_csv(path, skiprows=3)\n",
        "    except Exception:\n",
        "        # Fallback to reading without skipping rows\n",
        "        df = pd.read_csv(path)\n",
        "\n",
        "    # lower-case cols\n",
        "    df.columns = [c.strip().lower() for c in df.columns]\n",
        "\n",
        "    # find time col\n",
        "    time_cols = [c for c in df.columns if 'time' in c or 'timestamp' in c]\n",
        "\n",
        "    # find acceleration cols, trying common names\n",
        "    acc_x, acc_y, acc_z = None, None, None\n",
        "    for possible_x in ['acc_x','ax','accelerometer_x','x', 'ax (m/s^2)']:\n",
        "        if possible_x in df.columns:\n",
        "            acc_x = possible_x\n",
        "            break\n",
        "    for possible_y in ['acc_y','ay','accelerometer_y','y', 'ay (m/s^2)']:\n",
        "        if possible_y in df.columns:\n",
        "            acc_y = possible_y\n",
        "            break\n",
        "    for possible_z in ['acc_z','az','accelerometer_z','z', 'az (m/s^2)']:\n",
        "        if possible_z in df.columns:\n",
        "            acc_z = possible_z\n",
        "            break\n",
        "\n",
        "    # fallback: try using first three numeric columns if nothing found\n",
        "    numeric_cols = df.select_dtypes(include=[np.number]).columns.tolist()\n",
        "    if acc_x is None or acc_y is None or acc_z is None:\n",
        "        if len(numeric_cols) >= 3:\n",
        "            acc_x, acc_y, acc_z = numeric_cols[:3]\n",
        "    time_col = time_cols[0] if time_cols else None\n",
        "\n",
        "\n",
        "    if time_col is None:\n",
        "        # create synthetic time based on sample rate (if available)\n",
        "        if 'SAMPLE_RATE' in globals():\n",
        "             df['time'] = np.arange(len(df)) / SAMPLE_RATE\n",
        "             time_col = 'time'\n",
        "        else:\n",
        "            # Cannot create time if no time column and no sample rate defined\n",
        "            raise ValueError(\"Could not find time column and SAMPLE_RATE is not defined.\")\n",
        "\n",
        "\n",
        "    # Ensure all required columns are found\n",
        "    if time_col is None or acc_x is None or acc_y is None or acc_z is None:\n",
        "         raise ValueError(\"Could not find all required columns (time, ax, ay, az).\")\n",
        "\n",
        "\n",
        "    df = df.rename(columns={time_col: 'time', acc_x: 'ax', acc_y: 'ay', acc_z: 'az'})\n",
        "    df = df[['time','ax','ay','az']]\n",
        "    df = df.dropna()\n",
        "    return df\n"
      ],
      "metadata": {
        "id": "F2EBId1M7NDe"
      },
      "execution_count": 59,
      "outputs": []
    },
    {
      "cell_type": "code",
      "source": [
        "# ----------------------\n",
        "# WINDOWING + FEATURE EXTRACTION\n",
        "# ----------------------\n",
        "\n",
        "\n",
        "def sliding_windows(df, window_size_s=WINDOW_DURATION, step_s=WINDOW_STEP):\n",
        "    \"\"\"Yield windows as dataframes from df with 'time','ax','ay','az'.\"\"\"\n",
        "    times = df['time'].values\n",
        "    total_dur = times[-1] - times[0]\n",
        "    if total_dur <= 0:\n",
        "        return\n",
        "    fs_est = (len(times)-1) / total_dur\n",
        "    win_len = int(round(window_size_s * fs_est))\n",
        "    step = int(round(step_s * fs_est))\n",
        "    arr = df[['ax','ay','az']].values\n",
        "    for start in range(0, max(1, len(arr)-win_len+1), max(1,step)):\n",
        "        yield arr[start:start+win_len]"
      ],
      "metadata": {
        "id": "cbZ2kvGg7ehO"
      },
      "execution_count": 60,
      "outputs": []
    },
    {
      "cell_type": "code",
      "source": [
        "def extract_features_from_window(win):\n",
        "    \"\"\"win: numpy array shape (N,3). Returns a feature vector.\"\"\"\n",
        "    if win.shape[0] == 0:\n",
        "        return None\n",
        "    ax = win[:,0]\n",
        "    ay = win[:,1]\n",
        "    az = win[:,2]\n",
        "    mag = np.sqrt(ax**2 + ay**2 + az**2)\n",
        "    feat = {}\n",
        "    # time domain\n",
        "    for name, arr in [('ax',ax), ('ay',ay), ('az',az), ('mag',mag)]:\n",
        "        feat[f'{name}_mean'] = np.mean(arr)\n",
        "        feat[f'{name}_std'] = np.std(arr)\n",
        "        feat[f'{name}_min'] = np.min(arr)\n",
        "        feat[f'{name}_max'] = np.max(arr)\n",
        "        feat[f'{name}_median'] = np.median(arr)\n",
        "        feat[f'{name}_iqr'] = np.percentile(arr,75) - np.percentile(arr,25)\n",
        "        feat[f'{name}_rms'] = np.sqrt(np.mean(arr**2))\n",
        "        feat[f'{name}_skew'] = stats.skew(arr)\n",
        "        feat[f'{name}_kurt'] = stats.kurtosis(arr)\n",
        "    # correlations\n",
        "    feat['corr_xy'] = np.corrcoef(ax,ay)[0,1]\n",
        "    feat['corr_xz'] = np.corrcoef(ax,az)[0,1]\n",
        "    feat['corr_yz'] = np.corrcoef(ay,az)[0,1]\n",
        "    # frequency domain: dominant freq via FFT\n",
        "    N = len(mag)\n",
        "    if N > 1:\n",
        "        freqs = np.fft.rfftfreq(N, d=1.0/SAMPLE_RATE)\n",
        "        psd = np.abs(np.fft.rfft(mag))**2\n",
        "        dom_idx = np.argmax(psd)\n",
        "        feat['dom_freq'] = freqs[dom_idx]\n",
        "        feat['spec_entropy'] = -np.sum((psd/psd.sum()) * np.log2((psd/psd.sum())+1e-12))\n",
        "        feat['spec_energy'] = np.sum(psd)\n",
        "    else:\n",
        "        feat['dom_freq'] = 0\n",
        "        feat['spec_entropy'] = 0\n",
        "        feat['spec_energy'] = 0\n",
        "    return feat"
      ],
      "metadata": {
        "id": "wMfrkgAN90nt"
      },
      "execution_count": 61,
      "outputs": []
    },
    {
      "cell_type": "code",
      "source": [],
      "metadata": {
        "id": "vgp0lKJf-Bau"
      },
      "execution_count": 61,
      "outputs": []
    },
    {
      "cell_type": "code",
      "source": [
        "# ----------------------\n",
        "# BUILD DATASET FROM FOLDER\n",
        "# ----------------------\n",
        "\n",
        "\n",
        "def build_features_from_folder(data_dir):\n",
        "    X = []\n",
        "    y = []\n",
        "    files_scanned = 0\n",
        "    for employee_folder in sorted(glob.glob(os.path.join(data_dir, '*'))):\n",
        "        if not os.path.isdir(employee_folder):\n",
        "            continue\n",
        "        label = os.path.basename(employee_folder)\n",
        "        for csv_file in glob.glob(os.path.join(employee_folder, '*.csv')):\n",
        "            try:\n",
        "                df = read_sensor_file(csv_file)\n",
        "            except Exception as e:\n",
        "                print(f'Failed to read {csv_file}: {e}')\n",
        "                continue\n",
        "            for win in sliding_windows(df):\n",
        "                feat = extract_features_from_window(win)\n",
        "                if feat is None:\n",
        "                    continue\n",
        "                X.append(list(feat.values()))\n",
        "                y.append(label)\n",
        "                files_scanned += 1\n",
        "    feature_names = list(feat.keys()) if 'feat' in locals() else []\n",
        "    X = np.array(X)\n",
        "    y = np.array(y)\n",
        "    print(f'Scanned {files_scanned} files. Extracted {len(X)} windows.')\n",
        "    return X, y, feature_names"
      ],
      "metadata": {
        "id": "lYc8dxXk-oAL"
      },
      "execution_count": 62,
      "outputs": []
    },
    {
      "cell_type": "code",
      "source": [
        "# ----------------------\n",
        "# TRAIN CLASSICAL ML: RandomForest\n",
        "# ----------------------\n",
        "\n",
        "\n",
        "def train_random_forest(X, y, feature_names, save_path=None):\n",
        "    le = LabelEncoder()\n",
        "    y_enc = le.fit_transform(y)\n",
        "    X_train, X_test, y_train, y_test = train_test_split(X, y_enc, test_size=0.2, stratify=y_enc, random_state=42)\n",
        "    scaler = StandardScaler()\n",
        "    X_train_s = scaler.fit_transform(X_train)\n",
        "    X_test_s = scaler.transform(X_test)\n",
        "\n",
        "\n",
        "    clf = RandomForestClassifier(n_estimators=200, random_state=42, n_jobs=-1)\n",
        "    clf.fit(X_train_s, y_train)\n",
        "    y_pred = clf.predict(X_test_s)\n",
        "    acc = accuracy_score(y_test, y_pred)\n",
        "    print('RandomForest Test Accuracy:', acc)\n",
        "    print(classification_report(y_test, y_pred, target_names=le.classes_))\n",
        "    if save_path:\n",
        "        os.makedirs(save_path, exist_ok=True)\n",
        "        joblib.dump({'model':clf, 'scaler':scaler, 'label_encoder':le, 'features':feature_names}, os.path.join(save_path,'rf_pipeline.joblib'))\n",
        "        print('Saved RF pipeline to', os.path.join(save_path,'rf_pipeline.joblib'))\n",
        "    return clf, scaler, le"
      ],
      "metadata": {
        "id": "qDxU_yH4_Mgh"
      },
      "execution_count": 63,
      "outputs": []
    },
    {
      "cell_type": "code",
      "source": [
        "# ----------------------\n",
        "# PREPARE RAW WINDOWS FOR CNN\n",
        "# ----------------------\n",
        "\n",
        "\n",
        "def build_cnn_dataset(data_dir, window_size_s=WINDOW_DURATION, step_s=WINDOW_STEP, max_windows_per_file=200):\n",
        "    X = []\n",
        "    y = []\n",
        "    for employee_folder in sorted(glob.glob(os.path.join(data_dir, '*'))):\n",
        "        if not os.path.isdir(employee_folder):\n",
        "            continue\n",
        "        label = os.path.basename(employee_folder)\n",
        "        for csv_file in glob.glob(os.path.join(employee_folder, '*.csv')):\n",
        "            try:\n",
        "                df = read_sensor_file(csv_file)\n",
        "            except:\n",
        "                continue\n",
        "            times = df['time'].values\n",
        "            total_dur = times[-1] - times[0]\n",
        "            if total_dur <= 0:\n",
        "                continue\n",
        "            fs_est = (len(times)-1)/total_dur\n",
        "            win_len = int(round(window_size_s * fs_est))\n",
        "            step = int(round(step_s * fs_est))\n",
        "            arr = df[['ax','ay','az']].values\n",
        "            count = 0\n",
        "            for start in range(0, max(1, len(arr)-win_len+1), max(1,step)):\n",
        "                win = arr[start:start+win_len]\n",
        "                if win.shape[0] != win_len:\n",
        "                    continue\n",
        "                # Normalize window (per-window)\n",
        "                win = (win - np.mean(win, axis=0)) / (np.std(win, axis=0) + 1e-6)\n",
        "                X.append(win)\n",
        "                y.append(label) # Assuming label is the employee folder name\n",
        "                count += 1\n",
        "                if count >= max_windows_per_file:\n",
        "                    break\n",
        "    X = np.array(X)\n",
        "    y = np.array(y)\n",
        "    print(f'Built CNN dataset with {len(X)} windows.')\n",
        "    return X, y"
      ],
      "metadata": {
        "id": "bM46XkF3_XlS"
      },
      "execution_count": 64,
      "outputs": []
    },
    {
      "cell_type": "code",
      "source": [
        "# ----------------------\n",
        "# CNN MODEL\n",
        "# ----------------------\n",
        "\n",
        "\n",
        "def make_cnn_model(input_shape, n_classes):\n",
        "    model = Sequential([\n",
        "        Conv1D(32, kernel_size=5, activation='relu', input_shape=input_shape),\n",
        "        BatchNormalization(),\n",
        "        MaxPooling1D(2),\n",
        "        Conv1D(64, kernel_size=3, activation='relu'),\n",
        "        BatchNormalization(),\n",
        "        MaxPooling1D(2),\n",
        "        Conv1D(128, kernel_size=3, activation='relu'),\n",
        "        BatchNormalization(),\n",
        "        MaxPooling1D(2),\n",
        "        Flatten(),\n",
        "        Dense(256, activation='relu'),\n",
        "        Dropout(0.4),\n",
        "        Dense(n_classes, activation='softmax')\n",
        "    ])\n",
        "    model.compile(optimizer='adam', loss='categorical_crossentropy', metrics=['accuracy'])\n",
        "    return model"
      ],
      "metadata": {
        "id": "h9JSCMAF_eSW"
      },
      "execution_count": 65,
      "outputs": []
    },
    {
      "cell_type": "code",
      "source": [
        "# ----------------------\n",
        "# SAVE/LOAD RF INFERENCE UTILITY\n",
        "# ----------------------\n",
        "\n",
        "\n",
        "def rf_predict_from_csv(csv_path, pipeline_path):\n",
        "    pipe = joblib.load(pipeline_path)\n",
        "    df = read_sensor_file(csv_path)\n",
        "    feats = []\n",
        "    for win in sliding_windows(df):\n",
        "        f = extract_features_from_window(win)\n",
        "        feats.append(list(f.values()))\n",
        "    X = np.array(feats)\n",
        "    X_s = pipe['scaler'].transform(X)\n",
        "    preds = pipe['model'].predict(X_s)\n",
        "    labels = pipe['label_encoder'].inverse_transform(preds)\n",
        "    # majority vote\n",
        "    from collections import Counter\n",
        "    c = Counter(labels)\n",
        "    return c.most_common(3)"
      ],
      "metadata": {
        "id": "eNawloJs_rim"
      },
      "execution_count": 66,
      "outputs": []
    },
    {
      "cell_type": "code",
      "source": [
        "import glob\n",
        "\n",
        "files = glob.glob(\"/content/synthetic_data/employee1.csv\")\n",
        "print(\"Found files:\", files[:10])  # print first 10\n",
        "print(\"Total CSVs:\", len(files))\n"
      ],
      "metadata": {
        "colab": {
          "base_uri": "https://localhost:8080/"
        },
        "id": "Fu9XnQDNAl77",
        "outputId": "a8895ed1-4bf8-42fc-bb36-744971a3db17"
      },
      "execution_count": 68,
      "outputs": [
        {
          "output_type": "stream",
          "name": "stdout",
          "text": [
            "Found files: ['/content/synthetic_data/employee1.csv']\n",
            "Total CSVs: 1\n"
          ]
        }
      ]
    },
    {
      "cell_type": "code",
      "source": [
        "DATA_DIR = '/content/synthetic_data'\n"
      ],
      "metadata": {
        "id": "UIVo4qfcAmyP"
      },
      "execution_count": 69,
      "outputs": []
    },
    {
      "cell_type": "code",
      "source": [],
      "metadata": {
        "id": "JAOjuwcABKfq"
      },
      "execution_count": 70,
      "outputs": []
    },
    {
      "cell_type": "code",
      "source": [
        "X, y, feature_names = build_features_from_folder(DATA_DIR)\n"
      ],
      "metadata": {
        "colab": {
          "base_uri": "https://localhost:8080/"
        },
        "id": "u_vWYGMkBbUP",
        "outputId": "0c63a8ea-0f2a-41d3-c62b-c960d2d22225"
      },
      "execution_count": 71,
      "outputs": [
        {
          "output_type": "stream",
          "name": "stdout",
          "text": [
            "Scanned 0 files. Extracted 0 windows.\n"
          ]
        }
      ]
    },
    {
      "cell_type": "code",
      "source": [
        "for file in glob.glob(\"/content/stark-gait-dataset/*.csv\"):\n",
        "    ...\n"
      ],
      "metadata": {
        "id": "MaQDa5_TCEwn"
      },
      "execution_count": 72,
      "outputs": []
    },
    {
      "cell_type": "code",
      "source": [
        "df = read_sensor_file(\"/content/synthetic_data/employee1.csv\")\n",
        "print(df.head())"
      ],
      "metadata": {
        "colab": {
          "base_uri": "https://localhost:8080/"
        },
        "id": "mJWpqIv7CVqv",
        "outputId": "c2b692ab-2db4-45bd-9d97-d50b224c35db"
      },
      "execution_count": 74,
      "outputs": [
        {
          "output_type": "stream",
          "name": "stdout",
          "text": [
            "   time        ax        ay        az\n",
            "0     0  0.019909 -0.006202  9.799837\n",
            "1    50 -0.006458  0.014627  9.822019\n",
            "2   100  0.055151  0.073891  9.827723\n",
            "3   150  0.064647  0.084887  9.820165\n",
            "4   200  0.087804  0.078411  9.865022\n"
          ]
        }
      ]
    },
    {
      "cell_type": "code",
      "source": [
        "SAMPLE_RATE = 20     # based on your time column spacing (50ms interval = 20Hz)\n",
        "WINDOW_SIZE = SAMPLE_RATE * 2   # 2 seconds = 40 samples\n",
        "\n",
        "df = read_sensor_file(\"/content/synthetic_data/employee1.csv\")\n",
        "print(\"File length:\", len(df))\n",
        "\n",
        "for start in range(0, len(df) - WINDOW_SIZE, SAMPLE_RATE):  # step 1s\n",
        "    window = df.iloc[start:start+WINDOW_SIZE]\n",
        "    print(\"Extracted window:\", window.shape)\n",
        "    break"
      ],
      "metadata": {
        "colab": {
          "base_uri": "https://localhost:8080/"
        },
        "id": "_v-qMvJBCdZH",
        "outputId": "03a7759c-2482-4116-aa7c-dc5d9fea4eb4"
      },
      "execution_count": 76,
      "outputs": [
        {
          "output_type": "stream",
          "name": "stdout",
          "text": [
            "File length: 1000\n",
            "Extracted window: (40, 4)\n"
          ]
        }
      ]
    },
    {
      "cell_type": "code",
      "source": [
        "def extract_windows(df, window_seconds=2, step_seconds=1, fixed_window_size=None):\n",
        "    \"\"\"\n",
        "    Slice dataframe into overlapping windows based on detected sample rate or fixed size.\n",
        "\n",
        "    Args:\n",
        "        df : DataFrame with ['time','ax','ay','az']\n",
        "        window_seconds : window length in seconds (used if fixed_window_size is None)\n",
        "        step_seconds   : step between windows in seconds (used if fixed_window_size is None)\n",
        "        fixed_window_size: If an integer, use this as the window size in samples.\n",
        "\n",
        "    Returns:\n",
        "        list of numpy arrays shaped (window_size, 3)  (ax, ay, az)\n",
        "    \"\"\"\n",
        "\n",
        "    if len(df) < 2:\n",
        "        return []\n",
        "\n",
        "    if fixed_window_size is not None:\n",
        "        window_size = fixed_window_size\n",
        "        # Assuming step is proportional to window size if fixed size is used, or could be a fixed number of samples\n",
        "        # For simplicity, let's make step_size also based on a ratio of the fixed window size, or assume step_seconds is still relevant for fixed samples\n",
        "        # Let's use step_seconds still, calculating step_size based on the detected sample rate for stepping.\n",
        "        dt = np.median(np.diff(df['time']))\n",
        "        sample_rate = round(1000.0 / dt) if dt > 1 else round(1.0 / dt)\n",
        "        step_size = int(step_seconds * sample_rate)\n",
        "\n",
        "    else:\n",
        "        # --- Detect sample rate from 'time' column ---\n",
        "        dt = np.median(np.diff(df['time']))  # spacing between samples\n",
        "        if dt == 0:  # fallback\n",
        "            sample_rate = 50 # Default or error\n",
        "        else:\n",
        "            # if time in ms → convert to seconds\n",
        "            if dt > 1:\n",
        "                sample_rate = round(1000.0 / dt)\n",
        "            else:\n",
        "                sample_rate = round(1.0 / dt)\n",
        "\n",
        "        print(f\"Detected sample rate: {sample_rate} Hz\")\n",
        "        window_size = int(window_seconds * sample_rate)\n",
        "        step_size   = int(step_seconds * sample_rate)\n",
        "\n",
        "\n",
        "    if len(df) < window_size:\n",
        "        print(f\"⚠️ Not enough samples ({len(df)}) for one window of size {window_size}\")\n",
        "        return []\n",
        "\n",
        "    windows = []\n",
        "    # Ensure step_size is at least 1 to avoid infinite loops\n",
        "    step_size = max(1, step_size)\n",
        "\n",
        "    for start in range(0, len(df) - window_size + 1, step_size):\n",
        "        chunk = df.iloc[start:start+window_size][['ax','ay','az']].values\n",
        "        windows.append(chunk)\n",
        "\n",
        "    print(f\"Extracted {len(windows)} windows of size {window_size}\")\n",
        "    return windows\n"
      ],
      "metadata": {
        "id": "KXma70lsCxUx"
      },
      "execution_count": 77,
      "outputs": []
    },
    {
      "cell_type": "code",
      "source": [
        "df = read_sensor_file(\"/content/synthetic_data/employee1.csv\")\n",
        "windows = extract_windows(df, window_seconds=2, step_seconds=1)"
      ],
      "metadata": {
        "colab": {
          "base_uri": "https://localhost:8080/"
        },
        "id": "tJK6sUqcDAAp",
        "outputId": "f6bc697a-47dd-436d-ab5f-69b0bf4b0499"
      },
      "execution_count": 101,
      "outputs": [
        {
          "output_type": "stream",
          "name": "stdout",
          "text": [
            "Detected sample rate: 20 Hz\n",
            "Extracted 49 windows of size 40\n"
          ]
        }
      ]
    },
    {
      "cell_type": "code",
      "source": [
        "def build_cnn_dataset(data_dir, window_seconds=2, step_seconds=1):\n",
        "    \"\"\"\n",
        "    Traverse employee folders → read sensor CSV → slice into windows → build dataset\n",
        "    \"\"\"\n",
        "    X = []\n",
        "    y = []\n",
        "    emp_ids = []\n",
        "\n",
        "    for emp_folder in os.listdir(data_dir):\n",
        "        emp_path = os.path.join(data_dir, emp_folder)\n",
        "        if not os.path.isdir(emp_path):\n",
        "            continue\n",
        "\n",
        "        for file in os.listdir(emp_path):\n",
        "            if not file.endswith(\".csv\"):\n",
        "                continue\n",
        "\n",
        "            df = read_sensor_file(os.path.join(emp_path, file))\n",
        "            windows = extract_windows(df, window_seconds, step_seconds)\n",
        "\n",
        "            for w in windows:\n",
        "                X.append(w)\n",
        "                y.append(emp_folder)  # use folder name as employee label\n",
        "                emp_ids.append(emp_folder)\n",
        "\n",
        "    X = np.array(X)\n",
        "    y = np.array(y)\n",
        "\n",
        "    print(f\"Built dataset: {X.shape[0]} windows, shape={X.shape}, employees={len(set(y))}\")\n",
        "    return X, y\n"
      ],
      "metadata": {
        "id": "a_GGhq-iDDut"
      },
      "execution_count": 81,
      "outputs": []
    },
    {
      "cell_type": "code",
      "source": [
        "# ---------------------------\n",
        "# Stark Industries Gait Recognition - Full Pipeline\n",
        "# ---------------------------\n",
        "\n",
        "# 1️⃣ Mount Google Drive\n",
        "from google.colab import drive\n",
        "drive.mount('/content/drive')\n",
        "\n",
        "# 2️⃣ Imports\n",
        "import os, glob\n",
        "import numpy as np\n",
        "import pandas as pd\n",
        "from sklearn.preprocessing import LabelEncoder\n",
        "from sklearn.model_selection import train_test_split\n",
        "import tensorflow as tf\n",
        "from tensorflow.keras import layers, models\n",
        "\n",
        "# ---------------------------\n",
        "# 3️⃣ Helper functions\n",
        "# ---------------------------\n",
        "\n",
        "def read_sensor_file(path):\n",
        "    \"\"\"Read a sensor CSV and return dataframe with ['time','ax','ay','az']\"\"\"\n",
        "    df = pd.read_csv(path)\n",
        "    df = df.rename(columns={\n",
        "        'timestamp': 'time',\n",
        "        'accel_x': 'ax',\n",
        "        'accel_y': 'ay',\n",
        "        'accel_z': 'az'\n",
        "    })\n",
        "    df = df[['time','ax','ay','az']].dropna()\n",
        "    return df\n",
        "\n",
        "def extract_windows(df, window_seconds=2, step_seconds=1):\n",
        "    \"\"\"Slice dataframe into overlapping windows\"\"\"\n",
        "    if len(df) < 2:\n",
        "        return []\n",
        "    dt = np.median(np.diff(df['time']))\n",
        "    # detect sampling rate\n",
        "    sample_rate = round(1000.0 / dt) if dt > 1 else round(1.0 / dt)\n",
        "    window_size = int(window_seconds * sample_rate)\n",
        "    step_size   = int(step_seconds * sample_rate)\n",
        "    if len(df) < window_size:\n",
        "        return []\n",
        "    windows = []\n",
        "    for start in range(0, len(df) - window_size + 1, step_size):\n",
        "        chunk = df.iloc[start:start+window_size][['ax','ay','az']].values\n",
        "        windows.append(chunk)\n",
        "    return windows\n",
        "\n",
        "# ---------------------------\n",
        "# 4️⃣ Build dataset\n",
        "# ---------------------------\n",
        "\n",
        "DATA_DIR = \"/content/drive/MyDrive/stark-gait-dataset\"  # <- update your folder path here\n",
        "\n",
        "X, y = [], []\n",
        "\n",
        "emp_folders = [f for f in os.listdir(DATA_DIR) if os.path.isdir(os.path.join(DATA_DIR,f))]\n",
        "print(f\"Found {len(emp_folders)} employee folders.\")\n",
        "\n",
        "for emp in emp_folders:\n",
        "    emp_path = os.path.join(DATA_DIR, emp)\n",
        "    files = glob.glob(os.path.join(emp_path, \"*.csv\"))\n",
        "    print(f\"Processing {emp} with {len(files)} files...\")\n",
        "    for f in files:\n",
        "        df = read_sensor_file(f)\n",
        "        windows = extract_windows(df, window_seconds=2, step_seconds=1)\n",
        "        for w in windows:\n",
        "            X.append(w)\n",
        "            y.append(emp)\n",
        "\n",
        "X = np.array(X)\n",
        "y = np.array(y)\n",
        "print(f\"Total windows: {X.shape[0]}, Window shape: {X[0].shape if X.shape[0]>0 else 'N/A'}\")\n",
        "\n",
        "# ---------------------------\n",
        "# 5️⃣ Encode labels\n",
        "# ---------------------------\n",
        "encoder = LabelEncoder()\n",
        "y_encoded = encoder.fit_transform(y)\n",
        "print(\"Employees:\", encoder.classes_)\n",
        "\n",
        "# ---------------------------\n",
        "# 6️⃣ Train/Test split\n",
        "# ---------------------------\n",
        "X_train, X_test, y_train, y_test = train_test_split(\n",
        "    X, y_encoded, test_size=0.2, random_state=42\n",
        ")\n",
        "print(\"Train windows:\", X_train.shape[0], \"Test windows:\", X_test.shape[0])\n",
        "\n",
        "# ---------------------------\n",
        "# 7️⃣ CNN model\n",
        "# ---------------------------\n",
        "def build_gait_cnn(input_shape, num_classes):\n",
        "    model = models.Sequential([\n",
        "        layers.Conv1D(32, 3, activation='relu', input_shape=input_shape),\n",
        "        layers.MaxPooling1D(2),\n",
        "        layers.Conv1D(64, 3, activation='relu'),\n",
        "        layers.MaxPooling1D(2),\n",
        "        layers.Flatten(),\n",
        "        layers.Dense(128, activation='relu'),\n",
        "        layers.Dropout(0.3),\n",
        "        layers.Dense(num_classes, activation='softmax')\n",
        "    ])\n",
        "    model.compile(optimizer='adam', loss='sparse_categorical_crossentropy', metrics=['accuracy'])\n",
        "    return model\n",
        "\n",
        "model = build_gait_cnn((X_train.shape[1], X_train.shape[2]), len(np.unique(y_encoded)))\n",
        "model.summary()\n",
        "\n",
        "# ---------------------------\n",
        "# 8️⃣ Train\n",
        "# ---------------------------\n",
        "history = model.fit(\n",
        "    X_train, y_train,\n",
        "    validation_data=(X_test, y_test),\n",
        "    epochs=20,\n",
        "    batch_size=32\n",
        ")\n",
        "\n",
        "# ---------------------------\n",
        "# 9️⃣ Evaluate\n",
        "# ---------------------------\n",
        "loss, acc = model.evaluate(X_test, y_test)\n",
        "print(f\"✅ Test Accuracy: {acc*100:.2f}%\")\n",
        "\n",
        "# ---------------------------\n",
        "# 10️⃣ Predict new employee\n",
        "# ---------------------------\n",
        "def predict_employee(model, window, encoder):\n",
        "    pred = model.predict(window[np.newaxis,...])\n",
        "    return encoder.inverse_transform([np.argmax(pred)])[0]\n",
        "\n",
        "# Example:\n",
        "# df_new = read_sensor_file(\"/content/drive/MyDrive/stark-gait-dataset/employee1.csv\")\n",
        "# new_window = extract_windows(df_new, window_seconds=2, step_seconds=1)[0]\n",
        "# print(\"Predicted employee:\", predict_employee(model, new_window, encoder))\n"
      ],
      "metadata": {
        "colab": {
          "base_uri": "https://localhost:8080/",
          "height": 283
        },
        "id": "WSN0GvHvIQx4",
        "outputId": "0fe82ec8-7dbf-4fce-883d-ed44d3f8f31f"
      },
      "execution_count": 107,
      "outputs": [
        {
          "output_type": "stream",
          "name": "stdout",
          "text": [
            "Drive already mounted at /content/drive; to attempt to forcibly remount, call drive.mount(\"/content/drive\", force_remount=True).\n"
          ]
        },
        {
          "output_type": "error",
          "ename": "FileNotFoundError",
          "evalue": "[Errno 2] No such file or directory: '/content/drive/MyDrive/stark-gait-dataset'",
          "traceback": [
            "\u001b[0;31m---------------------------------------------------------------------------\u001b[0m",
            "\u001b[0;31mFileNotFoundError\u001b[0m                         Traceback (most recent call last)",
            "\u001b[0;32m/tmp/ipython-input-3972886743.py\u001b[0m in \u001b[0;36m<cell line: 0>\u001b[0;34m()\u001b[0m\n\u001b[1;32m     57\u001b[0m \u001b[0mX\u001b[0m\u001b[0;34m,\u001b[0m \u001b[0my\u001b[0m \u001b[0;34m=\u001b[0m \u001b[0;34m[\u001b[0m\u001b[0;34m]\u001b[0m\u001b[0;34m,\u001b[0m \u001b[0;34m[\u001b[0m\u001b[0;34m]\u001b[0m\u001b[0;34m\u001b[0m\u001b[0;34m\u001b[0m\u001b[0m\n\u001b[1;32m     58\u001b[0m \u001b[0;34m\u001b[0m\u001b[0m\n\u001b[0;32m---> 59\u001b[0;31m \u001b[0memp_folders\u001b[0m \u001b[0;34m=\u001b[0m \u001b[0;34m[\u001b[0m\u001b[0mf\u001b[0m \u001b[0;32mfor\u001b[0m \u001b[0mf\u001b[0m \u001b[0;32min\u001b[0m \u001b[0mos\u001b[0m\u001b[0;34m.\u001b[0m\u001b[0mlistdir\u001b[0m\u001b[0;34m(\u001b[0m\u001b[0mDATA_DIR\u001b[0m\u001b[0;34m)\u001b[0m \u001b[0;32mif\u001b[0m \u001b[0mos\u001b[0m\u001b[0;34m.\u001b[0m\u001b[0mpath\u001b[0m\u001b[0;34m.\u001b[0m\u001b[0misdir\u001b[0m\u001b[0;34m(\u001b[0m\u001b[0mos\u001b[0m\u001b[0;34m.\u001b[0m\u001b[0mpath\u001b[0m\u001b[0;34m.\u001b[0m\u001b[0mjoin\u001b[0m\u001b[0;34m(\u001b[0m\u001b[0mDATA_DIR\u001b[0m\u001b[0;34m,\u001b[0m\u001b[0mf\u001b[0m\u001b[0;34m)\u001b[0m\u001b[0;34m)\u001b[0m\u001b[0;34m]\u001b[0m\u001b[0;34m\u001b[0m\u001b[0;34m\u001b[0m\u001b[0m\n\u001b[0m\u001b[1;32m     60\u001b[0m \u001b[0mprint\u001b[0m\u001b[0;34m(\u001b[0m\u001b[0;34mf\"Found {len(emp_folders)} employee folders.\"\u001b[0m\u001b[0;34m)\u001b[0m\u001b[0;34m\u001b[0m\u001b[0;34m\u001b[0m\u001b[0m\n\u001b[1;32m     61\u001b[0m \u001b[0;34m\u001b[0m\u001b[0m\n",
            "\u001b[0;31mFileNotFoundError\u001b[0m: [Errno 2] No such file or directory: '/content/drive/MyDrive/stark-gait-dataset'"
          ]
        }
      ]
    },
    {
      "cell_type": "code",
      "source": [
        "!ls /content/drive/MyDrive\n"
      ],
      "metadata": {
        "colab": {
          "base_uri": "https://localhost:8080/"
        },
        "id": "wu9Kwx4_JAaR",
        "outputId": "bf6e5ffd-6c5b-4e0b-e7e5-39e73297c1c8"
      },
      "execution_count": 105,
      "outputs": [
        {
          "output_type": "stream",
          "name": "stdout",
          "text": [
            " batman\n",
            "'Colab Notebooks'\n",
            " ecoo.pdf\n",
            " Fast-Dreambooth\n",
            "'Google AI Studio'\n",
            "'Google Keep Document.gdoc'\n",
            "'Gray and White Simple Clean Resume (1).pdf'\n",
            "'Paper  3.docx'\n",
            " pexels-ash-craig-122861-376464.jpg\n",
            "'Pranjal23 (1).pdf'\n",
            "'Pranjal23 (2).pdf'\n",
            "'Pranjal23 (3).pdf'\n",
            " Pranjal23.pdf\n",
            "'PRANJAL CV (2) (1).pdf'\n",
            "'PRANJAL CV (2) (2).pdf'\n",
            "'PRANJAL CV (2) (3).pdf'\n",
            "'PRANJAL CV (2).pdf'\n",
            "'PRANJAL CV (3).pdf'\n",
            "'Pranjal Maheshwari_offer_letternew.pdf'\n",
            "'pranjal maheshwari RESUME.docx'\n",
            " PRANJAL.pdf\n",
            "'pranjal resume_____ (1).pdf'\n",
            "'pranjal resume_____ (2).pdf'\n",
            "'PRANJAL RESUME (2).pdf'\n",
            "'PRANJAL RESUME (5) (1).pdf'\n",
            "'PRANJAL RESUME (5).pdf'\n",
            "'pranjal resume_____.pdf'\n",
            "'Pranjal  Resume.pdf'\n",
            "'PRANJAL RESUME......pdf'\n",
            "'Problem Statement #3: The Bollywood Movie Analysi... (1).gsheet'\n",
            "'Problem Statement #3: The Bollywood Movie Analysi....gsheet'\n",
            " reply.mp4\n",
            "'RESUME100 (1).pdf'\n",
            " RESUME100.pdf\n",
            " Resume.gdoc\n",
            "'Screenshot 2025-07-04 001745.png'\n",
            "'Untitled folder'\n",
            "'Untitled presentation.gslides'\n",
            "'WhatsApp Image 2024-11-11 at 17.28.12_7c8d5c45.jpg'\n",
            "'WhatsApp Image 2025-01-26 at 09.46.53_339468e3.jpg'\n",
            "'WhatsApp Image 2025-05-25 at 16.45.52_fc44f192.jpg'\n"
          ]
        }
      ]
    },
    {
      "cell_type": "code",
      "source": [
        "from google.colab import files\n",
        "uploaded = files.upload()  # This will open a file picker\n"
      ],
      "metadata": {
        "colab": {
          "base_uri": "https://localhost:8080/",
          "height": 90
        },
        "id": "5n7UzDBCJK3U",
        "outputId": "8f06516e-c306-4294-f2e0-abe86f044012"
      },
      "execution_count": 104,
      "outputs": [
        {
          "output_type": "display_data",
          "data": {
            "text/plain": [
              "<IPython.core.display.HTML object>"
            ],
            "text/html": [
              "\n",
              "     <input type=\"file\" id=\"files-ae22d5ee-3a31-4dea-8f2b-596a4a1172c4\" name=\"files[]\" multiple disabled\n",
              "        style=\"border:none\" />\n",
              "     <output id=\"result-ae22d5ee-3a31-4dea-8f2b-596a4a1172c4\">\n",
              "      Upload widget is only available when the cell has been executed in the\n",
              "      current browser session. Please rerun this cell to enable.\n",
              "      </output>\n",
              "      <script>// Copyright 2017 Google LLC\n",
              "//\n",
              "// Licensed under the Apache License, Version 2.0 (the \"License\");\n",
              "// you may not use this file except in compliance with the License.\n",
              "// You may obtain a copy of the License at\n",
              "//\n",
              "//      http://www.apache.org/licenses/LICENSE-2.0\n",
              "//\n",
              "// Unless required by applicable law or agreed to in writing, software\n",
              "// distributed under the License is distributed on an \"AS IS\" BASIS,\n",
              "// WITHOUT WARRANTIES OR CONDITIONS OF ANY KIND, either express or implied.\n",
              "// See the License for the specific language governing permissions and\n",
              "// limitations under the License.\n",
              "\n",
              "/**\n",
              " * @fileoverview Helpers for google.colab Python module.\n",
              " */\n",
              "(function(scope) {\n",
              "function span(text, styleAttributes = {}) {\n",
              "  const element = document.createElement('span');\n",
              "  element.textContent = text;\n",
              "  for (const key of Object.keys(styleAttributes)) {\n",
              "    element.style[key] = styleAttributes[key];\n",
              "  }\n",
              "  return element;\n",
              "}\n",
              "\n",
              "// Max number of bytes which will be uploaded at a time.\n",
              "const MAX_PAYLOAD_SIZE = 100 * 1024;\n",
              "\n",
              "function _uploadFiles(inputId, outputId) {\n",
              "  const steps = uploadFilesStep(inputId, outputId);\n",
              "  const outputElement = document.getElementById(outputId);\n",
              "  // Cache steps on the outputElement to make it available for the next call\n",
              "  // to uploadFilesContinue from Python.\n",
              "  outputElement.steps = steps;\n",
              "\n",
              "  return _uploadFilesContinue(outputId);\n",
              "}\n",
              "\n",
              "// This is roughly an async generator (not supported in the browser yet),\n",
              "// where there are multiple asynchronous steps and the Python side is going\n",
              "// to poll for completion of each step.\n",
              "// This uses a Promise to block the python side on completion of each step,\n",
              "// then passes the result of the previous step as the input to the next step.\n",
              "function _uploadFilesContinue(outputId) {\n",
              "  const outputElement = document.getElementById(outputId);\n",
              "  const steps = outputElement.steps;\n",
              "\n",
              "  const next = steps.next(outputElement.lastPromiseValue);\n",
              "  return Promise.resolve(next.value.promise).then((value) => {\n",
              "    // Cache the last promise value to make it available to the next\n",
              "    // step of the generator.\n",
              "    outputElement.lastPromiseValue = value;\n",
              "    return next.value.response;\n",
              "  });\n",
              "}\n",
              "\n",
              "/**\n",
              " * Generator function which is called between each async step of the upload\n",
              " * process.\n",
              " * @param {string} inputId Element ID of the input file picker element.\n",
              " * @param {string} outputId Element ID of the output display.\n",
              " * @return {!Iterable<!Object>} Iterable of next steps.\n",
              " */\n",
              "function* uploadFilesStep(inputId, outputId) {\n",
              "  const inputElement = document.getElementById(inputId);\n",
              "  inputElement.disabled = false;\n",
              "\n",
              "  const outputElement = document.getElementById(outputId);\n",
              "  outputElement.innerHTML = '';\n",
              "\n",
              "  const pickedPromise = new Promise((resolve) => {\n",
              "    inputElement.addEventListener('change', (e) => {\n",
              "      resolve(e.target.files);\n",
              "    });\n",
              "  });\n",
              "\n",
              "  const cancel = document.createElement('button');\n",
              "  inputElement.parentElement.appendChild(cancel);\n",
              "  cancel.textContent = 'Cancel upload';\n",
              "  const cancelPromise = new Promise((resolve) => {\n",
              "    cancel.onclick = () => {\n",
              "      resolve(null);\n",
              "    };\n",
              "  });\n",
              "\n",
              "  // Wait for the user to pick the files.\n",
              "  const files = yield {\n",
              "    promise: Promise.race([pickedPromise, cancelPromise]),\n",
              "    response: {\n",
              "      action: 'starting',\n",
              "    }\n",
              "  };\n",
              "\n",
              "  cancel.remove();\n",
              "\n",
              "  // Disable the input element since further picks are not allowed.\n",
              "  inputElement.disabled = true;\n",
              "\n",
              "  if (!files) {\n",
              "    return {\n",
              "      response: {\n",
              "        action: 'complete',\n",
              "      }\n",
              "    };\n",
              "  }\n",
              "\n",
              "  for (const file of files) {\n",
              "    const li = document.createElement('li');\n",
              "    li.append(span(file.name, {fontWeight: 'bold'}));\n",
              "    li.append(span(\n",
              "        `(${file.type || 'n/a'}) - ${file.size} bytes, ` +\n",
              "        `last modified: ${\n",
              "            file.lastModifiedDate ? file.lastModifiedDate.toLocaleDateString() :\n",
              "                                    'n/a'} - `));\n",
              "    const percent = span('0% done');\n",
              "    li.appendChild(percent);\n",
              "\n",
              "    outputElement.appendChild(li);\n",
              "\n",
              "    const fileDataPromise = new Promise((resolve) => {\n",
              "      const reader = new FileReader();\n",
              "      reader.onload = (e) => {\n",
              "        resolve(e.target.result);\n",
              "      };\n",
              "      reader.readAsArrayBuffer(file);\n",
              "    });\n",
              "    // Wait for the data to be ready.\n",
              "    let fileData = yield {\n",
              "      promise: fileDataPromise,\n",
              "      response: {\n",
              "        action: 'continue',\n",
              "      }\n",
              "    };\n",
              "\n",
              "    // Use a chunked sending to avoid message size limits. See b/62115660.\n",
              "    let position = 0;\n",
              "    do {\n",
              "      const length = Math.min(fileData.byteLength - position, MAX_PAYLOAD_SIZE);\n",
              "      const chunk = new Uint8Array(fileData, position, length);\n",
              "      position += length;\n",
              "\n",
              "      const base64 = btoa(String.fromCharCode.apply(null, chunk));\n",
              "      yield {\n",
              "        response: {\n",
              "          action: 'append',\n",
              "          file: file.name,\n",
              "          data: base64,\n",
              "        },\n",
              "      };\n",
              "\n",
              "      let percentDone = fileData.byteLength === 0 ?\n",
              "          100 :\n",
              "          Math.round((position / fileData.byteLength) * 100);\n",
              "      percent.textContent = `${percentDone}% done`;\n",
              "\n",
              "    } while (position < fileData.byteLength);\n",
              "  }\n",
              "\n",
              "  // All done.\n",
              "  yield {\n",
              "    response: {\n",
              "      action: 'complete',\n",
              "    }\n",
              "  };\n",
              "}\n",
              "\n",
              "scope.google = scope.google || {};\n",
              "scope.google.colab = scope.google.colab || {};\n",
              "scope.google.colab._files = {\n",
              "  _uploadFiles,\n",
              "  _uploadFilesContinue,\n",
              "};\n",
              "})(self);\n",
              "</script> "
            ]
          },
          "metadata": {}
        },
        {
          "output_type": "stream",
          "name": "stdout",
          "text": [
            "Saving synthetic_data.zip to synthetic_data.zip\n"
          ]
        }
      ]
    },
    {
      "cell_type": "code",
      "source": [
        "# 1️⃣ Unzip the dataset\n",
        "import zipfile\n",
        "import os\n",
        "\n",
        "zip_path = \"/content/synthetic_data.zip\"\n",
        "extract_path = \"/content/synthetic_data\"\n",
        "\n",
        "with zipfile.ZipFile(zip_path, 'r') as zip_ref:\n",
        "    zip_ref.extractall(extract_path)\n",
        "\n",
        "print(\"Files extracted to:\", extract_path)\n",
        "print(os.listdir(extract_path))  # should show employee folders\n"
      ],
      "metadata": {
        "colab": {
          "base_uri": "https://localhost:8080/"
        },
        "id": "qM0WMWMcJW04",
        "outputId": "efd41348-867a-4115-a755-8ca22f216215"
      },
      "execution_count": 106,
      "outputs": [
        {
          "output_type": "stream",
          "name": "stdout",
          "text": [
            "Files extracted to: /content/synthetic_data\n",
            "['employee17.csv', 'employee4.csv', 'employee24.csv', 'employee7.csv', 'employee27.csv', 'employee8.csv', 'employee12.csv', 'employee6.csv', 'employee3.csv', 'employee1.csv', 'employee21.csv', 'employee23.csv', 'employee30.csv', 'employee28.csv', 'employee13.csv', 'employee29.csv', 'employee11.csv', 'employee9.csv', 'employee26.csv', 'employee18.csv', 'employee15.csv', 'employee2.csv', 'employee10.csv', 'employee5.csv', 'employee20.csv', 'employee16.csv', 'employee19.csv', 'employee25.csv', 'employee22.csv', 'employee14.csv']\n"
          ]
        }
      ]
    },
    {
      "cell_type": "code",
      "source": [
        "# 1️⃣ Unzip the dataset\n",
        "import zipfile\n",
        "import os\n",
        "\n",
        "zip_path = \"/content/synthetic_data.zip\"\n",
        "extract_path = \"/content/synthetic_data\"\n",
        "\n",
        "with zipfile.ZipFile(zip_path, 'r') as zip_ref:\n",
        "    zip_ref.extractall(extract_path)\n",
        "\n",
        "print(\"Files extracted to:\", extract_path)\n",
        "print(os.listdir(extract_path))  # should show employee folders\n"
      ],
      "metadata": {
        "colab": {
          "base_uri": "https://localhost:8080/"
        },
        "id": "fS1O2btVJuPR",
        "outputId": "f8d9b49f-11fb-4ccf-9e25-c870c55a3261"
      },
      "execution_count": 108,
      "outputs": [
        {
          "output_type": "stream",
          "name": "stdout",
          "text": [
            "Files extracted to: /content/synthetic_data\n",
            "['employee17.csv', 'employee4.csv', 'employee24.csv', 'employee7.csv', 'employee27.csv', 'employee8.csv', 'employee12.csv', 'employee6.csv', 'employee3.csv', 'employee1.csv', 'employee21.csv', 'employee23.csv', 'employee30.csv', 'employee28.csv', 'employee13.csv', 'employee29.csv', 'employee11.csv', 'employee9.csv', 'employee26.csv', 'employee18.csv', 'employee15.csv', 'employee2.csv', 'employee10.csv', 'employee5.csv', 'employee20.csv', 'employee16.csv', 'employee19.csv', 'employee25.csv', 'employee22.csv', 'employee14.csv']\n"
          ]
        }
      ]
    },
    {
      "cell_type": "code",
      "source": [
        "emp_folders = [f for f in os.listdir(extract_path) if os.path.isdir(os.path.join(extract_path,f))]\n"
      ],
      "metadata": {
        "id": "_d-ojA5iJ4V_"
      },
      "execution_count": 110,
      "outputs": []
    },
    {
      "cell_type": "code",
      "source": [
        "import glob\n",
        "import numpy as np\n",
        "import pandas as pd\n",
        "import os\n",
        "\n",
        "# Reuse helper functions\n",
        "def read_sensor_file(path):\n",
        "    df = pd.read_csv(path)\n",
        "    df = df.rename(columns={\n",
        "        'timestamp': 'time',\n",
        "        'accel_x': 'ax',\n",
        "        'accel_y': 'ay',\n",
        "        'accel_z': 'az'\n",
        "    })\n",
        "    df = df[['time','ax','ay','az']].dropna()\n",
        "    return df\n",
        "\n",
        "def extract_windows(df, window_seconds=2, step_seconds=1):\n",
        "    if len(df) < 2:\n",
        "        return []\n",
        "    dt = np.median(np.diff(df['time']))\n",
        "    sample_rate = round(1000.0 / dt) if dt > 1 else round(1.0 / dt)\n",
        "    window_size = int(window_seconds * sample_rate)\n",
        "    step_size   = int(step_seconds * sample_rate)\n",
        "    if len(df) < window_size:\n",
        "        return []\n",
        "    windows = []\n",
        "    for start in range(0, len(df) - window_size + 1, step_size):\n",
        "        chunk = df.iloc[start:start+window_size][['ax','ay','az']].values\n",
        "        windows.append(chunk)\n",
        "    return windows\n",
        "\n",
        "# Build dataset from all CSVs directly in the extracted folder\n",
        "X, y = [], []\n",
        "\n",
        "csv_files = glob.glob(os.path.join(extract_path, \"*.csv\"))\n",
        "print(f\"Found {len(csv_files)} CSV files.\")\n",
        "\n",
        "for f in csv_files:\n",
        "    df = read_sensor_file(f)\n",
        "    windows = extract_windows(df, window_seconds=2, step_seconds=1)\n",
        "    label = os.path.basename(f).split(\".\")[0]  # use filename as employee label\n",
        "    for w in windows:\n",
        "        X.append(w)\n",
        "        y.append(label)\n",
        "\n",
        "X = np.array(X)\n",
        "y = np.array(y)\n",
        "print(f\"Total windows: {X.shape[0]}, Window shape: {X[0].shape if X.shape[0]>0 else 'N/A'}\")\n"
      ],
      "metadata": {
        "colab": {
          "base_uri": "https://localhost:8080/"
        },
        "id": "4MQp8aGhKEJv",
        "outputId": "85fd3e5f-5171-4abe-c118-2783eb0a361f"
      },
      "execution_count": 111,
      "outputs": [
        {
          "output_type": "stream",
          "name": "stdout",
          "text": [
            "Found 30 CSV files.\n",
            "Total windows: 1470, Window shape: (40, 3)\n"
          ]
        }
      ]
    },
    {
      "cell_type": "code",
      "source": [
        "from sklearn.preprocessing import LabelEncoder\n",
        "\n",
        "encoder = LabelEncoder()\n",
        "y_encoded = encoder.fit_transform(y)\n",
        "\n",
        "print(\"Employees:\", encoder.classes_)\n"
      ],
      "metadata": {
        "colab": {
          "base_uri": "https://localhost:8080/"
        },
        "id": "b2LE0dNaKGsS",
        "outputId": "ed5c18dc-d0ba-4cb5-ece5-dea366f1bdb5"
      },
      "execution_count": 112,
      "outputs": [
        {
          "output_type": "stream",
          "name": "stdout",
          "text": [
            "Employees: ['employee1' 'employee10' 'employee11' 'employee12' 'employee13'\n",
            " 'employee14' 'employee15' 'employee16' 'employee17' 'employee18'\n",
            " 'employee19' 'employee2' 'employee20' 'employee21' 'employee22'\n",
            " 'employee23' 'employee24' 'employee25' 'employee26' 'employee27'\n",
            " 'employee28' 'employee29' 'employee3' 'employee30' 'employee4'\n",
            " 'employee5' 'employee6' 'employee7' 'employee8' 'employee9']\n"
          ]
        }
      ]
    },
    {
      "cell_type": "code",
      "source": [
        "from sklearn.model_selection import train_test_split\n",
        "\n",
        "X_train, X_test, y_train, y_test = train_test_split(\n",
        "    X, y_encoded, test_size=0.2, random_state=42\n",
        ")\n",
        "\n",
        "print(\"Train windows:\", X_train.shape[0], \"Test windows:\", X_test.shape[0])\n"
      ],
      "metadata": {
        "colab": {
          "base_uri": "https://localhost:8080/"
        },
        "id": "IYsyrSvPKMiw",
        "outputId": "c4c9763b-6a67-4cf1-f835-cc76a4b246af"
      },
      "execution_count": 113,
      "outputs": [
        {
          "output_type": "stream",
          "name": "stdout",
          "text": [
            "Train windows: 1176 Test windows: 294\n"
          ]
        }
      ]
    },
    {
      "cell_type": "code",
      "source": [
        "import tensorflow as tf\n",
        "from tensorflow.keras import layers, models\n",
        "\n",
        "def build_gait_cnn(input_shape, num_classes):\n",
        "    model = models.Sequential([\n",
        "        layers.Conv1D(32, 3, activation='relu', input_shape=input_shape),\n",
        "        layers.MaxPooling1D(2),\n",
        "        layers.Conv1D(64, 3, activation='relu'),\n",
        "        layers.MaxPooling1D(2),\n",
        "        layers.Flatten(),\n",
        "        layers.Dense(128, activation='relu'),\n",
        "        layers.Dropout(0.3),\n",
        "        layers.Dense(num_classes, activation='softmax')\n",
        "    ])\n",
        "    model.compile(optimizer='adam', loss='sparse_categorical_crossentropy', metrics=['accuracy'])\n",
        "    return model\n",
        "\n",
        "model = build_gait_cnn((X_train.shape[1], X_train.shape[2]), len(encoder.classes_))\n",
        "model.summary()\n"
      ],
      "metadata": {
        "colab": {
          "base_uri": "https://localhost:8080/",
          "height": 440
        },
        "id": "h5zHqKYPKN3w",
        "outputId": "368a3aa0-f59e-4ce7-a840-cea7814a6784"
      },
      "execution_count": 114,
      "outputs": [
        {
          "output_type": "stream",
          "name": "stderr",
          "text": [
            "/usr/local/lib/python3.12/dist-packages/keras/src/layers/convolutional/base_conv.py:113: UserWarning: Do not pass an `input_shape`/`input_dim` argument to a layer. When using Sequential models, prefer using an `Input(shape)` object as the first layer in the model instead.\n",
            "  super().__init__(activity_regularizer=activity_regularizer, **kwargs)\n"
          ]
        },
        {
          "output_type": "display_data",
          "data": {
            "text/plain": [
              "\u001b[1mModel: \"sequential\"\u001b[0m\n"
            ],
            "text/html": [
              "<pre style=\"white-space:pre;overflow-x:auto;line-height:normal;font-family:Menlo,'DejaVu Sans Mono',consolas,'Courier New',monospace\"><span style=\"font-weight: bold\">Model: \"sequential\"</span>\n",
              "</pre>\n"
            ]
          },
          "metadata": {}
        },
        {
          "output_type": "display_data",
          "data": {
            "text/plain": [
              "┏━━━━━━━━━━━━━━━━━━━━━━━━━━━━━━━━━┳━━━━━━━━━━━━━━━━━━━━━━━━┳━━━━━━━━━━━━━━━┓\n",
              "┃\u001b[1m \u001b[0m\u001b[1mLayer (type)                   \u001b[0m\u001b[1m \u001b[0m┃\u001b[1m \u001b[0m\u001b[1mOutput Shape          \u001b[0m\u001b[1m \u001b[0m┃\u001b[1m \u001b[0m\u001b[1m      Param #\u001b[0m\u001b[1m \u001b[0m┃\n",
              "┡━━━━━━━━━━━━━━━━━━━━━━━━━━━━━━━━━╇━━━━━━━━━━━━━━━━━━━━━━━━╇━━━━━━━━━━━━━━━┩\n",
              "│ conv1d (\u001b[38;5;33mConv1D\u001b[0m)                 │ (\u001b[38;5;45mNone\u001b[0m, \u001b[38;5;34m38\u001b[0m, \u001b[38;5;34m32\u001b[0m)         │           \u001b[38;5;34m320\u001b[0m │\n",
              "├─────────────────────────────────┼────────────────────────┼───────────────┤\n",
              "│ max_pooling1d (\u001b[38;5;33mMaxPooling1D\u001b[0m)    │ (\u001b[38;5;45mNone\u001b[0m, \u001b[38;5;34m19\u001b[0m, \u001b[38;5;34m32\u001b[0m)         │             \u001b[38;5;34m0\u001b[0m │\n",
              "├─────────────────────────────────┼────────────────────────┼───────────────┤\n",
              "│ conv1d_1 (\u001b[38;5;33mConv1D\u001b[0m)               │ (\u001b[38;5;45mNone\u001b[0m, \u001b[38;5;34m17\u001b[0m, \u001b[38;5;34m64\u001b[0m)         │         \u001b[38;5;34m6,208\u001b[0m │\n",
              "├─────────────────────────────────┼────────────────────────┼───────────────┤\n",
              "│ max_pooling1d_1 (\u001b[38;5;33mMaxPooling1D\u001b[0m)  │ (\u001b[38;5;45mNone\u001b[0m, \u001b[38;5;34m8\u001b[0m, \u001b[38;5;34m64\u001b[0m)          │             \u001b[38;5;34m0\u001b[0m │\n",
              "├─────────────────────────────────┼────────────────────────┼───────────────┤\n",
              "│ flatten (\u001b[38;5;33mFlatten\u001b[0m)               │ (\u001b[38;5;45mNone\u001b[0m, \u001b[38;5;34m512\u001b[0m)            │             \u001b[38;5;34m0\u001b[0m │\n",
              "├─────────────────────────────────┼────────────────────────┼───────────────┤\n",
              "│ dense (\u001b[38;5;33mDense\u001b[0m)                   │ (\u001b[38;5;45mNone\u001b[0m, \u001b[38;5;34m128\u001b[0m)            │        \u001b[38;5;34m65,664\u001b[0m │\n",
              "├─────────────────────────────────┼────────────────────────┼───────────────┤\n",
              "│ dropout (\u001b[38;5;33mDropout\u001b[0m)               │ (\u001b[38;5;45mNone\u001b[0m, \u001b[38;5;34m128\u001b[0m)            │             \u001b[38;5;34m0\u001b[0m │\n",
              "├─────────────────────────────────┼────────────────────────┼───────────────┤\n",
              "│ dense_1 (\u001b[38;5;33mDense\u001b[0m)                 │ (\u001b[38;5;45mNone\u001b[0m, \u001b[38;5;34m30\u001b[0m)             │         \u001b[38;5;34m3,870\u001b[0m │\n",
              "└─────────────────────────────────┴────────────────────────┴───────────────┘\n"
            ],
            "text/html": [
              "<pre style=\"white-space:pre;overflow-x:auto;line-height:normal;font-family:Menlo,'DejaVu Sans Mono',consolas,'Courier New',monospace\">┏━━━━━━━━━━━━━━━━━━━━━━━━━━━━━━━━━┳━━━━━━━━━━━━━━━━━━━━━━━━┳━━━━━━━━━━━━━━━┓\n",
              "┃<span style=\"font-weight: bold\"> Layer (type)                    </span>┃<span style=\"font-weight: bold\"> Output Shape           </span>┃<span style=\"font-weight: bold\">       Param # </span>┃\n",
              "┡━━━━━━━━━━━━━━━━━━━━━━━━━━━━━━━━━╇━━━━━━━━━━━━━━━━━━━━━━━━╇━━━━━━━━━━━━━━━┩\n",
              "│ conv1d (<span style=\"color: #0087ff; text-decoration-color: #0087ff\">Conv1D</span>)                 │ (<span style=\"color: #00d7ff; text-decoration-color: #00d7ff\">None</span>, <span style=\"color: #00af00; text-decoration-color: #00af00\">38</span>, <span style=\"color: #00af00; text-decoration-color: #00af00\">32</span>)         │           <span style=\"color: #00af00; text-decoration-color: #00af00\">320</span> │\n",
              "├─────────────────────────────────┼────────────────────────┼───────────────┤\n",
              "│ max_pooling1d (<span style=\"color: #0087ff; text-decoration-color: #0087ff\">MaxPooling1D</span>)    │ (<span style=\"color: #00d7ff; text-decoration-color: #00d7ff\">None</span>, <span style=\"color: #00af00; text-decoration-color: #00af00\">19</span>, <span style=\"color: #00af00; text-decoration-color: #00af00\">32</span>)         │             <span style=\"color: #00af00; text-decoration-color: #00af00\">0</span> │\n",
              "├─────────────────────────────────┼────────────────────────┼───────────────┤\n",
              "│ conv1d_1 (<span style=\"color: #0087ff; text-decoration-color: #0087ff\">Conv1D</span>)               │ (<span style=\"color: #00d7ff; text-decoration-color: #00d7ff\">None</span>, <span style=\"color: #00af00; text-decoration-color: #00af00\">17</span>, <span style=\"color: #00af00; text-decoration-color: #00af00\">64</span>)         │         <span style=\"color: #00af00; text-decoration-color: #00af00\">6,208</span> │\n",
              "├─────────────────────────────────┼────────────────────────┼───────────────┤\n",
              "│ max_pooling1d_1 (<span style=\"color: #0087ff; text-decoration-color: #0087ff\">MaxPooling1D</span>)  │ (<span style=\"color: #00d7ff; text-decoration-color: #00d7ff\">None</span>, <span style=\"color: #00af00; text-decoration-color: #00af00\">8</span>, <span style=\"color: #00af00; text-decoration-color: #00af00\">64</span>)          │             <span style=\"color: #00af00; text-decoration-color: #00af00\">0</span> │\n",
              "├─────────────────────────────────┼────────────────────────┼───────────────┤\n",
              "│ flatten (<span style=\"color: #0087ff; text-decoration-color: #0087ff\">Flatten</span>)               │ (<span style=\"color: #00d7ff; text-decoration-color: #00d7ff\">None</span>, <span style=\"color: #00af00; text-decoration-color: #00af00\">512</span>)            │             <span style=\"color: #00af00; text-decoration-color: #00af00\">0</span> │\n",
              "├─────────────────────────────────┼────────────────────────┼───────────────┤\n",
              "│ dense (<span style=\"color: #0087ff; text-decoration-color: #0087ff\">Dense</span>)                   │ (<span style=\"color: #00d7ff; text-decoration-color: #00d7ff\">None</span>, <span style=\"color: #00af00; text-decoration-color: #00af00\">128</span>)            │        <span style=\"color: #00af00; text-decoration-color: #00af00\">65,664</span> │\n",
              "├─────────────────────────────────┼────────────────────────┼───────────────┤\n",
              "│ dropout (<span style=\"color: #0087ff; text-decoration-color: #0087ff\">Dropout</span>)               │ (<span style=\"color: #00d7ff; text-decoration-color: #00d7ff\">None</span>, <span style=\"color: #00af00; text-decoration-color: #00af00\">128</span>)            │             <span style=\"color: #00af00; text-decoration-color: #00af00\">0</span> │\n",
              "├─────────────────────────────────┼────────────────────────┼───────────────┤\n",
              "│ dense_1 (<span style=\"color: #0087ff; text-decoration-color: #0087ff\">Dense</span>)                 │ (<span style=\"color: #00d7ff; text-decoration-color: #00d7ff\">None</span>, <span style=\"color: #00af00; text-decoration-color: #00af00\">30</span>)             │         <span style=\"color: #00af00; text-decoration-color: #00af00\">3,870</span> │\n",
              "└─────────────────────────────────┴────────────────────────┴───────────────┘\n",
              "</pre>\n"
            ]
          },
          "metadata": {}
        },
        {
          "output_type": "display_data",
          "data": {
            "text/plain": [
              "\u001b[1m Total params: \u001b[0m\u001b[38;5;34m76,062\u001b[0m (297.12 KB)\n"
            ],
            "text/html": [
              "<pre style=\"white-space:pre;overflow-x:auto;line-height:normal;font-family:Menlo,'DejaVu Sans Mono',consolas,'Courier New',monospace\"><span style=\"font-weight: bold\"> Total params: </span><span style=\"color: #00af00; text-decoration-color: #00af00\">76,062</span> (297.12 KB)\n",
              "</pre>\n"
            ]
          },
          "metadata": {}
        },
        {
          "output_type": "display_data",
          "data": {
            "text/plain": [
              "\u001b[1m Trainable params: \u001b[0m\u001b[38;5;34m76,062\u001b[0m (297.12 KB)\n"
            ],
            "text/html": [
              "<pre style=\"white-space:pre;overflow-x:auto;line-height:normal;font-family:Menlo,'DejaVu Sans Mono',consolas,'Courier New',monospace\"><span style=\"font-weight: bold\"> Trainable params: </span><span style=\"color: #00af00; text-decoration-color: #00af00\">76,062</span> (297.12 KB)\n",
              "</pre>\n"
            ]
          },
          "metadata": {}
        },
        {
          "output_type": "display_data",
          "data": {
            "text/plain": [
              "\u001b[1m Non-trainable params: \u001b[0m\u001b[38;5;34m0\u001b[0m (0.00 B)\n"
            ],
            "text/html": [
              "<pre style=\"white-space:pre;overflow-x:auto;line-height:normal;font-family:Menlo,'DejaVu Sans Mono',consolas,'Courier New',monospace\"><span style=\"font-weight: bold\"> Non-trainable params: </span><span style=\"color: #00af00; text-decoration-color: #00af00\">0</span> (0.00 B)\n",
              "</pre>\n"
            ]
          },
          "metadata": {}
        }
      ]
    },
    {
      "cell_type": "code",
      "source": [
        "history = model.fit(\n",
        "    X_train, y_train,\n",
        "    validation_data=(X_test, y_test),\n",
        "    epochs=20,\n",
        "    batch_size=32\n",
        ")\n"
      ],
      "metadata": {
        "colab": {
          "base_uri": "https://localhost:8080/"
        },
        "id": "0RJAI9pCKPyA",
        "outputId": "f4ebbadc-39cf-42c9-802d-a45c14c9ec4e"
      },
      "execution_count": 115,
      "outputs": [
        {
          "output_type": "stream",
          "name": "stdout",
          "text": [
            "Epoch 1/20\n",
            "\u001b[1m37/37\u001b[0m \u001b[32m━━━━━━━━━━━━━━━━━━━━\u001b[0m\u001b[37m\u001b[0m \u001b[1m3s\u001b[0m 14ms/step - accuracy: 0.0417 - loss: 3.5425 - val_accuracy: 0.0408 - val_loss: 3.4182\n",
            "Epoch 2/20\n",
            "\u001b[1m37/37\u001b[0m \u001b[32m━━━━━━━━━━━━━━━━━━━━\u001b[0m\u001b[37m\u001b[0m \u001b[1m0s\u001b[0m 9ms/step - accuracy: 0.0255 - loss: 3.4110 - val_accuracy: 0.0204 - val_loss: 3.4032\n",
            "Epoch 3/20\n",
            "\u001b[1m37/37\u001b[0m \u001b[32m━━━━━━━━━━━━━━━━━━━━\u001b[0m\u001b[37m\u001b[0m \u001b[1m0s\u001b[0m 8ms/step - accuracy: 0.0315 - loss: 3.4059 - val_accuracy: 0.0170 - val_loss: 3.4125\n",
            "Epoch 4/20\n",
            "\u001b[1m37/37\u001b[0m \u001b[32m━━━━━━━━━━━━━━━━━━━━\u001b[0m\u001b[37m\u001b[0m \u001b[1m0s\u001b[0m 8ms/step - accuracy: 0.0482 - loss: 3.3993 - val_accuracy: 0.0136 - val_loss: 3.4129\n",
            "Epoch 5/20\n",
            "\u001b[1m37/37\u001b[0m \u001b[32m━━━━━━━━━━━━━━━━━━━━\u001b[0m\u001b[37m\u001b[0m \u001b[1m1s\u001b[0m 18ms/step - accuracy: 0.0356 - loss: 3.4027 - val_accuracy: 0.0238 - val_loss: 3.4169\n",
            "Epoch 6/20\n",
            "\u001b[1m37/37\u001b[0m \u001b[32m━━━━━━━━━━━━━━━━━━━━\u001b[0m\u001b[37m\u001b[0m \u001b[1m1s\u001b[0m 21ms/step - accuracy: 0.0446 - loss: 3.3981 - val_accuracy: 0.0204 - val_loss: 3.4159\n",
            "Epoch 7/20\n",
            "\u001b[1m37/37\u001b[0m \u001b[32m━━━━━━━━━━━━━━━━━━━━\u001b[0m\u001b[37m\u001b[0m \u001b[1m2s\u001b[0m 49ms/step - accuracy: 0.0402 - loss: 3.4010 - val_accuracy: 0.0068 - val_loss: 3.4108\n",
            "Epoch 8/20\n",
            "\u001b[1m37/37\u001b[0m \u001b[32m━━━━━━━━━━━━━━━━━━━━\u001b[0m\u001b[37m\u001b[0m \u001b[1m1s\u001b[0m 16ms/step - accuracy: 0.0381 - loss: 3.4013 - val_accuracy: 0.0204 - val_loss: 3.4140\n",
            "Epoch 9/20\n",
            "\u001b[1m37/37\u001b[0m \u001b[32m━━━━━━━━━━━━━━━━━━━━\u001b[0m\u001b[37m\u001b[0m \u001b[1m1s\u001b[0m 15ms/step - accuracy: 0.0382 - loss: 3.3993 - val_accuracy: 0.0170 - val_loss: 3.4231\n",
            "Epoch 10/20\n",
            "\u001b[1m37/37\u001b[0m \u001b[32m━━━━━━━━━━━━━━━━━━━━\u001b[0m\u001b[37m\u001b[0m \u001b[1m1s\u001b[0m 13ms/step - accuracy: 0.0343 - loss: 3.4004 - val_accuracy: 0.0034 - val_loss: 3.4143\n",
            "Epoch 11/20\n",
            "\u001b[1m37/37\u001b[0m \u001b[32m━━━━━━━━━━━━━━━━━━━━\u001b[0m\u001b[37m\u001b[0m \u001b[1m1s\u001b[0m 17ms/step - accuracy: 0.0449 - loss: 3.3975 - val_accuracy: 0.0272 - val_loss: 3.4137\n",
            "Epoch 12/20\n",
            "\u001b[1m37/37\u001b[0m \u001b[32m━━━━━━━━━━━━━━━━━━━━\u001b[0m\u001b[37m\u001b[0m \u001b[1m1s\u001b[0m 8ms/step - accuracy: 0.0385 - loss: 3.4004 - val_accuracy: 0.0136 - val_loss: 3.4135\n",
            "Epoch 13/20\n",
            "\u001b[1m37/37\u001b[0m \u001b[32m━━━━━━━━━━━━━━━━━━━━\u001b[0m\u001b[37m\u001b[0m \u001b[1m0s\u001b[0m 8ms/step - accuracy: 0.0423 - loss: 3.4004 - val_accuracy: 0.0408 - val_loss: 3.4122\n",
            "Epoch 14/20\n",
            "\u001b[1m37/37\u001b[0m \u001b[32m━━━━━━━━━━━━━━━━━━━━\u001b[0m\u001b[37m\u001b[0m \u001b[1m0s\u001b[0m 8ms/step - accuracy: 0.0344 - loss: 3.3991 - val_accuracy: 0.0238 - val_loss: 3.4164\n",
            "Epoch 15/20\n",
            "\u001b[1m37/37\u001b[0m \u001b[32m━━━━━━━━━━━━━━━━━━━━\u001b[0m\u001b[37m\u001b[0m \u001b[1m0s\u001b[0m 8ms/step - accuracy: 0.0384 - loss: 3.3996 - val_accuracy: 0.0204 - val_loss: 3.4133\n",
            "Epoch 16/20\n",
            "\u001b[1m37/37\u001b[0m \u001b[32m━━━━━━━━━━━━━━━━━━━━\u001b[0m\u001b[37m\u001b[0m \u001b[1m0s\u001b[0m 8ms/step - accuracy: 0.0497 - loss: 3.3996 - val_accuracy: 0.0238 - val_loss: 3.4136\n",
            "Epoch 17/20\n",
            "\u001b[1m37/37\u001b[0m \u001b[32m━━━━━━━━━━━━━━━━━━━━\u001b[0m\u001b[37m\u001b[0m \u001b[1m0s\u001b[0m 9ms/step - accuracy: 0.0325 - loss: 3.3976 - val_accuracy: 0.0136 - val_loss: 3.4131\n",
            "Epoch 18/20\n",
            "\u001b[1m37/37\u001b[0m \u001b[32m━━━━━━━━━━━━━━━━━━━━\u001b[0m\u001b[37m\u001b[0m \u001b[1m0s\u001b[0m 8ms/step - accuracy: 0.0261 - loss: 3.3991 - val_accuracy: 0.0136 - val_loss: 3.4143\n",
            "Epoch 19/20\n",
            "\u001b[1m37/37\u001b[0m \u001b[32m━━━━━━━━━━━━━━━━━━━━\u001b[0m\u001b[37m\u001b[0m \u001b[1m0s\u001b[0m 8ms/step - accuracy: 0.0449 - loss: 3.3988 - val_accuracy: 0.0136 - val_loss: 3.4155\n",
            "Epoch 20/20\n",
            "\u001b[1m37/37\u001b[0m \u001b[32m━━━━━━━━━━━━━━━━━━━━\u001b[0m\u001b[37m\u001b[0m \u001b[1m0s\u001b[0m 9ms/step - accuracy: 0.0406 - loss: 3.3980 - val_accuracy: 0.0136 - val_loss: 3.4167\n"
          ]
        }
      ]
    },
    {
      "cell_type": "code",
      "source": [
        "loss, acc = model.evaluate(X_test, y_test)\n",
        "print(f\"✅ Test Accuracy: {acc*100:.2f}%\")\n"
      ],
      "metadata": {
        "colab": {
          "base_uri": "https://localhost:8080/"
        },
        "id": "hBzcBQTYKRjB",
        "outputId": "fedcf1e2-569b-4304-b142-71187d7cf2e4"
      },
      "execution_count": 116,
      "outputs": [
        {
          "output_type": "stream",
          "name": "stdout",
          "text": [
            "\u001b[1m10/10\u001b[0m \u001b[32m━━━━━━━━━━━━━━━━━━━━\u001b[0m\u001b[37m\u001b[0m \u001b[1m0s\u001b[0m 5ms/step - accuracy: 0.0131 - loss: 3.4159     \n",
            "✅ Test Accuracy: 1.36%\n"
          ]
        }
      ]
    },
    {
      "cell_type": "code",
      "source": [
        "def predict_employee(model, window, encoder):\n",
        "    pred = model.predict(window[np.newaxis, ...])\n",
        "    return encoder.inverse_transform([np.argmax(pred)])[0]\n",
        "\n",
        "# Example:\n",
        "# new_df = read_sensor_file(\"/content/synthetic_data/employee1.csv\")\n",
        "# new_window = extract_windows(new_df, window_seconds=2, step_seconds=1)[0]\n",
        "# print(\"Predicted employee:\", predict_employee(model, new_window, encoder))\n"
      ],
      "metadata": {
        "id": "Frl4ImMHKT_2"
      },
      "execution_count": 117,
      "outputs": []
    },
    {
      "cell_type": "code",
      "source": [
        "model.save(\"/content/gait_cnn_model.h5\")\n",
        "print(\"Model saved!\")\n"
      ],
      "metadata": {
        "colab": {
          "base_uri": "https://localhost:8080/"
        },
        "id": "e6uC3tbxKWeM",
        "outputId": "204d9983-c307-41be-fdd8-3daff77d9343"
      },
      "execution_count": 118,
      "outputs": [
        {
          "output_type": "stream",
          "name": "stderr",
          "text": [
            "WARNING:absl:You are saving your model as an HDF5 file via `model.save()` or `keras.saving.save_model(model)`. This file format is considered legacy. We recommend using instead the native Keras format, e.g. `model.save('my_model.keras')` or `keras.saving.save_model(model, 'my_model.keras')`. \n"
          ]
        },
        {
          "output_type": "stream",
          "name": "stdout",
          "text": [
            "Model saved!\n"
          ]
        }
      ]
    },
    {
      "cell_type": "code",
      "source": [
        "import matplotlib.pyplot as plt\n",
        "\n",
        "plt.figure(figsize=(12,5))\n",
        "plt.subplot(1,2,1)\n",
        "plt.plot(history.history['accuracy'], label='Train Acc')\n",
        "plt.plot(history.history['val_accuracy'], label='Val Acc')\n",
        "plt.title(\"Accuracy\")\n",
        "plt.legend()\n",
        "\n",
        "plt.subplot(1,2,2)\n",
        "plt.plot(history.history['loss'], label='Train Loss')\n",
        "plt.plot(history.history['val_loss'], label='Val Loss')\n",
        "plt.title(\"Loss\")\n",
        "plt.legend()\n",
        "plt.show()\n"
      ],
      "metadata": {
        "colab": {
          "base_uri": "https://localhost:8080/",
          "height": 285
        },
        "id": "Ho3RYmSfKcb0",
        "outputId": "6c037a2f-1603-4eea-dce6-2a85c39810bb"
      },
      "execution_count": 119,
      "outputs": [
        {
          "output_type": "display_data",
          "data": {
            "text/plain": [
              "<Figure size 1200x500 with 2 Axes>"
            ],
            "image/png": "[encoded data removed]"
          },
          "metadata": {}
        }
      ]
    },
    {
      "cell_type": "code",
      "source": [
        "from google.colab import files\n",
        "uploaded = files.upload()  # Select your CSV file(s)\n",
        "\n"
      ],
      "metadata": {
        "colab": {
          "base_uri": "https://localhost:8080/",
          "height": 110
        },
        "id": "6DhQWD-CKe_n",
        "outputId": "c54f8376-9957-47b7-b679-b5fcc1ad1ec6"
      },
      "execution_count": 151,
      "outputs": [
        {
          "output_type": "display_data",
          "data": {
            "text/plain": [
              "<IPython.core.display.HTML object>"
            ],
            "text/html": [
              "\n",
              "     <input type=\"file\" id=\"files-a05cfc36-7569-478a-bbdf-cf0df1687e6f\" name=\"files[]\" multiple disabled\n",
              "        style=\"border:none\" />\n",
              "     <output id=\"result-a05cfc36-7569-478a-bbdf-cf0df1687e6f\">\n",
              "      Upload widget is only available when the cell has been executed in the\n",
              "      current browser session. Please rerun this cell to enable.\n",
              "      </output>\n",
              "      <script>// Copyright 2017 Google LLC\n",
              "//\n",
              "// Licensed under the Apache License, Version 2.0 (the \"License\");\n",
              "// you may not use this file except in compliance with the License.\n",
              "// You may obtain a copy of the License at\n",
              "//\n",
              "//      http://www.apache.org/licenses/LICENSE-2.0\n",
              "//\n",
              "// Unless required by applicable law or agreed to in writing, software\n",
              "// distributed under the License is distributed on an \"AS IS\" BASIS,\n",
              "// WITHOUT WARRANTIES OR CONDITIONS OF ANY KIND, either express or implied.\n",
              "// See the License for the specific language governing permissions and\n",
              "// limitations under the License.\n",
              "\n",
              "/**\n",
              " * @fileoverview Helpers for google.colab Python module.\n",
              " */\n",
              "(function(scope) {\n",
              "function span(text, styleAttributes = {}) {\n",
              "  const element = document.createElement('span');\n",
              "  element.textContent = text;\n",
              "  for (const key of Object.keys(styleAttributes)) {\n",
              "    element.style[key] = styleAttributes[key];\n",
              "  }\n",
              "  return element;\n",
              "}\n",
              "\n",
              "// Max number of bytes which will be uploaded at a time.\n",
              "const MAX_PAYLOAD_SIZE = 100 * 1024;\n",
              "\n",
              "function _uploadFiles(inputId, outputId) {\n",
              "  const steps = uploadFilesStep(inputId, outputId);\n",
              "  const outputElement = document.getElementById(outputId);\n",
              "  // Cache steps on the outputElement to make it available for the next call\n",
              "  // to uploadFilesContinue from Python.\n",
              "  outputElement.steps = steps;\n",
              "\n",
              "  return _uploadFilesContinue(outputId);\n",
              "}\n",
              "\n",
              "// This is roughly an async generator (not supported in the browser yet),\n",
              "// where there are multiple asynchronous steps and the Python side is going\n",
              "// to poll for completion of each step.\n",
              "// This uses a Promise to block the python side on completion of each step,\n",
              "// then passes the result of the previous step as the input to the next step.\n",
              "function _uploadFilesContinue(outputId) {\n",
              "  const outputElement = document.getElementById(outputId);\n",
              "  const steps = outputElement.steps;\n",
              "\n",
              "  const next = steps.next(outputElement.lastPromiseValue);\n",
              "  return Promise.resolve(next.value.promise).then((value) => {\n",
              "    // Cache the last promise value to make it available to the next\n",
              "    // step of the generator.\n",
              "    outputElement.lastPromiseValue = value;\n",
              "    return next.value.response;\n",
              "  });\n",
              "}\n",
              "\n",
              "/**\n",
              " * Generator function which is called between each async step of the upload\n",
              " * process.\n",
              " * @param {string} inputId Element ID of the input file picker element.\n",
              " * @param {string} outputId Element ID of the output display.\n",
              " * @return {!Iterable<!Object>} Iterable of next steps.\n",
              " */\n",
              "function* uploadFilesStep(inputId, outputId) {\n",
              "  const inputElement = document.getElementById(inputId);\n",
              "  inputElement.disabled = false;\n",
              "\n",
              "  const outputElement = document.getElementById(outputId);\n",
              "  outputElement.innerHTML = '';\n",
              "\n",
              "  const pickedPromise = new Promise((resolve) => {\n",
              "    inputElement.addEventListener('change', (e) => {\n",
              "      resolve(e.target.files);\n",
              "    });\n",
              "  });\n",
              "\n",
              "  const cancel = document.createElement('button');\n",
              "  inputElement.parentElement.appendChild(cancel);\n",
              "  cancel.textContent = 'Cancel upload';\n",
              "  const cancelPromise = new Promise((resolve) => {\n",
              "    cancel.onclick = () => {\n",
              "      resolve(null);\n",
              "    };\n",
              "  });\n",
              "\n",
              "  // Wait for the user to pick the files.\n",
              "  const files = yield {\n",
              "    promise: Promise.race([pickedPromise, cancelPromise]),\n",
              "    response: {\n",
              "      action: 'starting',\n",
              "    }\n",
              "  };\n",
              "\n",
              "  cancel.remove();\n",
              "\n",
              "  // Disable the input element since further picks are not allowed.\n",
              "  inputElement.disabled = true;\n",
              "\n",
              "  if (!files) {\n",
              "    return {\n",
              "      response: {\n",
              "        action: 'complete',\n",
              "      }\n",
              "    };\n",
              "  }\n",
              "\n",
              "  for (const file of files) {\n",
              "    const li = document.createElement('li');\n",
              "    li.append(span(file.name, {fontWeight: 'bold'}));\n",
              "    li.append(span(\n",
              "        `(${file.type || 'n/a'}) - ${file.size} bytes, ` +\n",
              "        `last modified: ${\n",
              "            file.lastModifiedDate ? file.lastModifiedDate.toLocaleDateString() :\n",
              "                                    'n/a'} - `));\n",
              "    const percent = span('0% done');\n",
              "    li.appendChild(percent);\n",
              "\n",
              "    outputElement.appendChild(li);\n",
              "\n",
              "    const fileDataPromise = new Promise((resolve) => {\n",
              "      const reader = new FileReader();\n",
              "      reader.onload = (e) => {\n",
              "        resolve(e.target.result);\n",
              "      };\n",
              "      reader.readAsArrayBuffer(file);\n",
              "    });\n",
              "    // Wait for the data to be ready.\n",
              "    let fileData = yield {\n",
              "      promise: fileDataPromise,\n",
              "      response: {\n",
              "        action: 'continue',\n",
              "      }\n",
              "    };\n",
              "\n",
              "    // Use a chunked sending to avoid message size limits. See b/62115660.\n",
              "    let position = 0;\n",
              "    do {\n",
              "      const length = Math.min(fileData.byteLength - position, MAX_PAYLOAD_SIZE);\n",
              "      const chunk = new Uint8Array(fileData, position, length);\n",
              "      position += length;\n",
              "\n",
              "      const base64 = btoa(String.fromCharCode.apply(null, chunk));\n",
              "      yield {\n",
              "        response: {\n",
              "          action: 'append',\n",
              "          file: file.name,\n",
              "          data: base64,\n",
              "        },\n",
              "      };\n",
              "\n",
              "      let percentDone = fileData.byteLength === 0 ?\n",
              "          100 :\n",
              "          Math.round((position / fileData.byteLength) * 100);\n",
              "      percent.textContent = `${percentDone}% done`;\n",
              "\n",
              "    } while (position < fileData.byteLength);\n",
              "  }\n",
              "\n",
              "  // All done.\n",
              "  yield {\n",
              "    response: {\n",
              "      action: 'complete',\n",
              "    }\n",
              "  };\n",
              "}\n",
              "\n",
              "scope.google = scope.google || {};\n",
              "scope.google.colab = scope.google.colab || {};\n",
              "scope.google.colab._files = {\n",
              "  _uploadFiles,\n",
              "  _uploadFilesContinue,\n",
              "};\n",
              "})(self);\n",
              "</script> "
            ]
          },
          "metadata": {}
        },
        {
          "output_type": "stream",
          "name": "stdout",
          "text": [
            "Saving linear_acceleration_2025-09-27_09.08.04.csv to linear_acceleration_2025-09-27_09.08.04.csv\n"
          ]
        }
      ]
    },
    {
      "cell_type": "code",
      "source": [
        "\n"
      ],
      "metadata": {
        "id": "RnZIDsWYL5Vp"
      },
      "execution_count": 123,
      "outputs": []
    },
    {
      "cell_type": "code",
      "source": [
        "# 1️⃣ Read the CSV\n",
        "new_df = read_sensor_file_pt(\"/content/linear_acceleration_2025-09-27_09.08.04.csv\")\n",
        "print(\"CSV loaded, number of rows:\", len(new_df))\n",
        "\n",
        "# 2️⃣ Extract windows (2 seconds each, step 1 second)\n",
        "windows = extract_windows(new_df, window_seconds=2, step_seconds=1)\n",
        "print(\"Total windows extracted:\", len(windows))\n",
        "\n",
        "# 3️⃣ Pad/truncate windows to match training size\n",
        "train_window_size = X_train.shape[1]\n",
        "padded_windows = []\n",
        "for w in windows:\n",
        "    current_len = w.shape[0]\n",
        "    if current_len < train_window_size:\n",
        "        pad_len = train_window_size - current_len\n",
        "        w_padded = np.vstack([w, np.zeros((pad_len, w.shape[1]))])\n",
        "        padded_windows.append(w_padded)\n",
        "    elif current_len > train_window_size:\n",
        "        padded_windows.append(w[:train_window_size])\n",
        "    else:\n",
        "        padded_windows.append(w)\n",
        "\n",
        "print(\"Windows ready for prediction:\", len(padded_windows))\n",
        "\n",
        "# 4️⃣ Predict employee\n",
        "predictions = [predict_employee(model, w, encoder) for w in padded_windows]\n",
        "\n",
        "from collections import Counter\n",
        "if len(predictions) == 0:\n",
        "    print(\"❌ No valid predictions. Recording may still be too short.\")\n",
        "else:\n",
        "    final_prediction = Counter(predictions).most_common(1)[0][0]\n",
        "    print(\"✅ Final Predicted Employee:\", final_prediction)\n"
      ],
      "metadata": {
        "colab": {
          "base_uri": "https://localhost:8080/"
        },
        "id": "8HvS9xfJPxX7",
        "outputId": "e2467d0c-b15e-4cb5-b691-9560536b8369"
      },
      "execution_count": 152,
      "outputs": [
        {
          "output_type": "stream",
          "name": "stdout",
          "text": [
            "CSV loaded, number of rows: 527\n",
            "Total windows extracted: 4\n",
            "Windows ready for prediction: 4\n",
            "\u001b[1m1/1\u001b[0m \u001b[32m━━━━━━━━━━━━━━━━━━━━\u001b[0m\u001b[37m\u001b[0m \u001b[1m0s\u001b[0m 111ms/step\n",
            "\u001b[1m1/1\u001b[0m \u001b[32m━━━━━━━━━━━━━━━━━━━━\u001b[0m\u001b[37m\u001b[0m \u001b[1m0s\u001b[0m 49ms/step\n",
            "\u001b[1m1/1\u001b[0m \u001b[32m━━━━━━━━━━━━━━━━━━━━\u001b[0m\u001b[37m\u001b[0m \u001b[1m0s\u001b[0m 87ms/step\n",
            "\u001b[1m1/1\u001b[0m \u001b[32m━━━━━━━━━━━━━━━━━━━━\u001b[0m\u001b[37m\u001b[0m \u001b[1m0s\u001b[0m 74ms/step\n",
            "✅ Final Predicted Employee: employee25\n"
          ]
        }
      ]
    },
    {
      "cell_type": "code",
      "source": [],
      "metadata": {
        "id": "hE0RrqJ2Qfqb"
      },
      "execution_count": null,
      "outputs": []
    }
  ]
}